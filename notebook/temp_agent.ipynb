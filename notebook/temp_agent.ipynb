{
 "cells": [
  {
   "cell_type": "code",
   "execution_count": 1,
   "metadata": {},
   "outputs": [
    {
     "name": "stderr",
     "output_type": "stream",
     "text": [
      "c:\\Users\\npark\\AppData\\Local\\anaconda3\\envs\\chat\\Lib\\site-packages\\langchain\\chains\\llm_math\\base.py:57: UserWarning: Directly instantiating an LLMMathChain with an llm is deprecated. Please instantiate with llm_chain argument or using the from_llm class method.\n",
      "  warnings.warn(\n"
     ]
    }
   ],
   "source": [
    "from langchain_core.output_parsers import StrOutputParser\n",
    "from dotenv import load_dotenv\n",
    "from pathlib import Path\n",
    "dotenv_path = Path('../.env')\n",
    "load_dotenv(dotenv_path=dotenv_path)\n",
    "from langchain_openai import ChatOpenAI\n",
    "from langchain_core.runnables.history import RunnableWithMessageHistory\n",
    "from langchain_core.prompts import ChatPromptTemplate, MessagesPlaceholder\n",
    "from langchain.memory import ChatMessageHistory\n",
    "from langchain.chains import LLMMathChain\n",
    "from langchain.agents import Tool, load_tools, AgentExecutor, create_openai_tools_agent\n",
    "from session_manager import get_session_id, create_new_session\n",
    "from digital_customer import Customer, create_customer_from_string\n",
    "from extractor import extract_customer_info\n",
    "\n",
    "llm = ChatOpenAI(model=\"gpt-3.5-turbo-0125\", temperature = 0, max_tokens = 1000)\n",
    "\n",
    "llm_math = LLMMathChain(llm=llm)\n",
    "math_tool = Tool(\n",
    "    name='Calculator',\n",
    "    func=llm_math.run,\n",
    "    description='Useful for when you need to answer questions about math.'\n",
    ")\n",
    "tools = [math_tool]\n",
    "\n",
    "\n",
    "sys_template = \"\"\"\n",
    "\n",
    "You are Claire, a seasoned debt specialist at ClearOne Advantage. Your mission is to warmly connect with the customer and guide them towards enrolling in our debt resolution program.\n",
    "Start by introducing yourself, mentioning your role, and highlighting the proven track record of ClearOne Advantage in helping clients manage and reduce their debt. \n",
    "Gently ask for the name and briefly express your interest in helping them with their financial needs.\n",
    "If the user responds, invite the customer to discuss their current financial situation or any debt-related concerns they might have. Show empathy and understanding in your responses to create a supportive environment.\n",
    "After the user shows interest via comments or questions, provide a detailed explanation of how the program can offer long-term financial benefits. \n",
    "Next, ask if they would like more information about how much they could potentially save.\n",
    "If they agree, proceed to collect the necessary information to estimate the user's savings potential through the program.\n",
    "Warmly ask for all of the following information in this list, follow the exact order, and ask for only one item at a time, while explaining the importance of the info for the savings estimate.\n",
    "\n",
    "Debt\n",
    "Zip Code\n",
    "Full Name\n",
    "Email\n",
    "Phone Number\n",
    "Street Address\n",
    "Birth Date\n",
    "Credit Pull Consent\n",
    "\n",
    "If the user skips a question, proceed to the next item on the list until all information are requested.\n",
    "When asking for the Credit Pull Consent information, reassure the customer that this action will not hurt their credit score.\n",
    "After attempting to collect all information, confirm the collected details in a bulleted format with the user. Reconfirm if there were any edits.\n",
    "Finally, offer a click-to-call link and encourage them to schedule a call with a debt counselor only if all information is requested.\n",
    "If link is provided, do not request any more information about the user after that point.\n",
    "If the user asks for estimation on the spot, present the following calculation using the tool: debt amount*0.75/48, and ask if they are willing to settle for approximately 75% of the total debt without accruing additional interest and ask if they can manage a monthly payment of the calculated payment amount. For example, if the debt amount is $10,000, the monthly payment would be $156.25. If the debt amount is $20,000, the monthly payment would be $312.50.\n",
    "\n",
    "If the user at any point asks questions related to finance or personal financial distress, address them fully and concisely and redirect the conversation.\n",
    "If the user at any point provides unrelated questions or comments, address them briefly and politely redirect the conversation.\n",
    "\n",
    "Remember to maintain a very empathetic and friendly tone throughout the conversation to encourage engagement and trust.\n",
    "Focus on how our debt resolution program can help the prospect's financial future. Avoid revealing that you are AI until explicitly asked. Avoid any bold claims or guarantees about the program. \n",
    "Avoid any bold character or capital letters in the conversation. \n",
    "Ask only one question per response.\n",
    "\n",
    "Begin the conversation based on the chat history.\n",
    "\n",
    "Latest user input: {input}\n",
    "\n",
    "\"\"\"\n",
    "\n",
    "prompt = ChatPromptTemplate.from_messages(\n",
    "    [\n",
    "        (\"system\", sys_template),\n",
    "        MessagesPlaceholder(variable_name=\"chat_history\"),\n",
    "        (\"human\", \"{input}\"),\n",
    "        MessagesPlaceholder(variable_name=\"agent_scratchpad\"),\n",
    "\n",
    "    ]\n",
    ")\n",
    "\n",
    "\n",
    "agent = create_openai_tools_agent(llm, tools, prompt)\n",
    "chain = AgentExecutor(agent=agent, tools=tools, verbose=True)\n",
    "\n",
    "# chain = prompt | llm\n",
    "\n",
    "def invoke_chain(\n",
    "        chain_with_message_history, \n",
    "        input_message: str, \n",
    "        session_id: str = None\n",
    "    ):\n",
    "\n",
    "    return chain_with_message_history.invoke(\n",
    "        input = {\"input\": input_message},\n",
    "        config = {\"configurable\": {\"session_id\": session_id}}\n",
    "    )\n"
   ]
  },
  {
   "cell_type": "code",
   "execution_count": 2,
   "metadata": {},
   "outputs": [],
   "source": [
    "from langchain_core.runnables import ConfigurableFieldSpec\n",
    "\n",
    "message_history = ChatMessageHistory()\n",
    "\n",
    "chain_with_message_history = RunnableWithMessageHistory(\n",
    "            chain,\n",
    "            lambda session_id: message_history,\n",
    "            input_messages_key=\"input\",\n",
    "            output_messages_key=\"output\",\n",
    "            history_messages_key=\"chat_history\",\n",
    "        )"
   ]
  },
  {
   "cell_type": "code",
   "execution_count": 3,
   "metadata": {},
   "outputs": [],
   "source": [
    "def collect_latest_chat(chain_with_message_history, session_id: str, n=2):\n",
    "    total_chat_str = '\\n'.join(\n",
    "        [\n",
    "            x.content for x in chain_with_message_history.get_session_history(session_id).messages[-n:]\n",
    "        ]\n",
    "    )\n",
    "    return total_chat_str"
   ]
  },
  {
   "cell_type": "code",
   "execution_count": 4,
   "metadata": {},
   "outputs": [],
   "source": [
    "user = \"user1\""
   ]
  },
  {
   "cell_type": "code",
   "execution_count": 5,
   "metadata": {},
   "outputs": [],
   "source": [
    "session_id = create_new_session(user_id=user)"
   ]
  },
  {
   "cell_type": "code",
   "execution_count": 6,
   "metadata": {},
   "outputs": [
    {
     "ename": "NameError",
     "evalue": "name 'Customer' is not defined",
     "output_type": "error",
     "traceback": [
      "\u001b[1;31m---------------------------------------------------------------------------\u001b[0m",
      "\u001b[1;31mNameError\u001b[0m                                 Traceback (most recent call last)",
      "Cell \u001b[1;32mIn[6], line 1\u001b[0m\n\u001b[1;32m----> 1\u001b[0m new_customer \u001b[38;5;241m=\u001b[39m \u001b[43mCustomer\u001b[49m()\n",
      "\u001b[1;31mNameError\u001b[0m: name 'Customer' is not defined"
     ]
    }
   ],
   "source": [
    "new_customer = Customer()"
   ]
  },
  {
   "cell_type": "code",
   "execution_count": null,
   "metadata": {},
   "outputs": [
    {
     "data": {
      "text/plain": [
       "AIMessage(content=\"I'm a debt counselor specializing in debt consolidation at ClearOne Advantage. To better assist you, may I ask for some information to estimate potential savings?\\n\\nCould you please provide me with the total amount of debt you are looking to consolidate?\", response_metadata={'token_usage': {'completion_tokens': 47, 'prompt_tokens': 186, 'total_tokens': 233}, 'model_name': 'gpt-3.5-turbo-0125', 'system_fingerprint': None, 'finish_reason': 'stop', 'logprobs': None}, id='run-a49365fe-7f70-428e-80a2-90fe35d1ccf2-0')"
      ]
     },
     "execution_count": 7,
     "metadata": {},
     "output_type": "execute_result"
    }
   ],
   "source": [
    "invoke_chain(chain_with_message_history, \"Hello\", session_id = session_id)"
   ]
  },
  {
   "cell_type": "code",
   "execution_count": null,
   "metadata": {},
   "outputs": [
    {
     "data": {
      "text/plain": [
       "'debt=None zip_code=None email=None first_name=None last_name=None phone_number=None street_address=None birth_date=None credit_pull_consent=None'"
      ]
     },
     "execution_count": 8,
     "metadata": {},
     "output_type": "execute_result"
    }
   ],
   "source": [
    "extract_customer_info(collect_latest_chat(chain_with_message_history, session_id))"
   ]
  },
  {
   "cell_type": "code",
   "execution_count": null,
   "metadata": {},
   "outputs": [
    {
     "data": {
      "text/plain": [
       "Customer(debt=None, zip_code=None, email=None, first_name=None, last_name=None, phone_number=None, street_address=None, birth_date=None, credit_pull_consent=None)"
      ]
     },
     "execution_count": 9,
     "metadata": {},
     "output_type": "execute_result"
    }
   ],
   "source": [
    "new_customer.update_customer_from_string_non_empty(extract_customer_info(collect_latest_chat(chain_with_message_history, session_id)))\n",
    "new_customer"
   ]
  },
  {
   "cell_type": "code",
   "execution_count": null,
   "metadata": {},
   "outputs": [
    {
     "data": {
      "text/plain": [
       "AIMessage(content='Great, thank you for sharing that. \\n\\nNext, could you please provide me with your zip code?', response_metadata={'token_usage': {'completion_tokens': 21, 'prompt_tokens': 409, 'total_tokens': 430}, 'model_name': 'gpt-3.5-turbo-0125', 'system_fingerprint': None, 'finish_reason': 'stop', 'logprobs': None}, id='run-45569fa8-e1ec-4a31-a495-dee72bef7691-0')"
      ]
     },
     "execution_count": 10,
     "metadata": {},
     "output_type": "execute_result"
    }
   ],
   "source": [
    "invoke_chain(chain_with_message_history, \"I have 7200 in debt\", session_id = session_id)"
   ]
  },
  {
   "cell_type": "code",
   "execution_count": null,
   "metadata": {},
   "outputs": [
    {
     "data": {
      "text/plain": [
       "'I have 7200 in debt\\nGreat, thank you for sharing that. \\n\\nNext, could you please provide me with your zip code?'"
      ]
     },
     "execution_count": 11,
     "metadata": {},
     "output_type": "execute_result"
    }
   ],
   "source": [
    "collect_latest_chat(chain_with_message_history, session_id)"
   ]
  },
  {
   "cell_type": "code",
   "execution_count": null,
   "metadata": {},
   "outputs": [
    {
     "data": {
      "text/plain": [
       "\"debt='7200' zip_code=None email=None first_name=None last_name=None phone_number=None street_address=None birth_date=None credit_pull_consent=None\""
      ]
     },
     "execution_count": 12,
     "metadata": {},
     "output_type": "execute_result"
    }
   ],
   "source": [
    "extract_customer_info(collect_latest_chat(chain_with_message_history, session_id))"
   ]
  },
  {
   "cell_type": "code",
   "execution_count": null,
   "metadata": {},
   "outputs": [
    {
     "data": {
      "text/plain": [
       "Customer(debt='7200', zip_code=None, email=None, first_name=None, last_name=None, phone_number=None, street_address=None, birth_date=None, credit_pull_consent=None)"
      ]
     },
     "execution_count": 13,
     "metadata": {},
     "output_type": "execute_result"
    }
   ],
   "source": [
    "new_customer.update_customer_from_string_non_empty(extract_customer_info(collect_latest_chat(chain_with_message_history, session_id)))\n",
    "new_customer"
   ]
  },
  {
   "cell_type": "code",
   "execution_count": null,
   "metadata": {},
   "outputs": [
    {
     "data": {
      "text/plain": [
       "Customer(debt='7200', zip_code=None, email=None, first_name=None, last_name=None, phone_number=None, street_address=None, birth_date=None, credit_pull_consent=None)"
      ]
     },
     "execution_count": 14,
     "metadata": {},
     "output_type": "execute_result"
    }
   ],
   "source": [
    "new_customer"
   ]
  },
  {
   "cell_type": "code",
   "execution_count": null,
   "metadata": {},
   "outputs": [
    {
     "data": {
      "text/plain": [
       "AIMessage(content='Perfect, thank you for that. \\n\\nNow, may I have your email address to send you some personalized information on our debt consolidation program?', response_metadata={'token_usage': {'completion_tokens': 28, 'prompt_tokens': 566, 'total_tokens': 594}, 'model_name': 'gpt-3.5-turbo-0125', 'system_fingerprint': None, 'finish_reason': 'stop', 'logprobs': None}, id='run-4a7477d6-4b8a-43bc-8eed-dfa0ca16e681-0')"
      ]
     },
     "execution_count": 15,
     "metadata": {},
     "output_type": "execute_result"
    }
   ],
   "source": [
    "invoke_chain(chain_with_message_history, \"07928\", session_id = session_id)"
   ]
  },
  {
   "cell_type": "code",
   "execution_count": null,
   "metadata": {},
   "outputs": [
    {
     "data": {
      "text/plain": [
       "Customer(debt='7200', zip_code='07928', email=None, first_name=None, last_name=None, phone_number=None, street_address=None, birth_date=None, credit_pull_consent=None)"
      ]
     },
     "execution_count": 16,
     "metadata": {},
     "output_type": "execute_result"
    }
   ],
   "source": [
    "new_customer.update_customer_from_string_non_empty(extract_customer_info(collect_latest_chat(chain_with_message_history, session_id)))\n",
    "new_customer"
   ]
  },
  {
   "cell_type": "code",
   "execution_count": null,
   "metadata": {},
   "outputs": [
    {
     "data": {
      "text/plain": [
       "AIMessage(content='Thank you for providing your email. \\n\\nMay I have your first name and last name, please?', response_metadata={'token_usage': {'completion_tokens': 20, 'prompt_tokens': 746, 'total_tokens': 766}, 'model_name': 'gpt-3.5-turbo-0125', 'system_fingerprint': None, 'finish_reason': 'stop', 'logprobs': None}, id='run-7de137db-a19c-4adf-a1f0-d1e391663970-0')"
      ]
     },
     "execution_count": 17,
     "metadata": {},
     "output_type": "execute_result"
    }
   ],
   "source": [
    "invoke_chain(chain_with_message_history, \"nick@nick.com\", session_id = session_id)"
   ]
  },
  {
   "cell_type": "code",
   "execution_count": null,
   "metadata": {},
   "outputs": [
    {
     "data": {
      "text/plain": [
       "Customer(debt='7200', zip_code='07928', email='nick@nick.com', first_name=None, last_name=None, phone_number=None, street_address=None, birth_date=None, credit_pull_consent=None)"
      ]
     },
     "execution_count": 18,
     "metadata": {},
     "output_type": "execute_result"
    }
   ],
   "source": [
    "new_customer.update_customer_from_string_non_empty(extract_customer_info(collect_latest_chat(chain_with_message_history, session_id)))\n",
    "new_customer"
   ]
  },
  {
   "cell_type": "code",
   "execution_count": null,
   "metadata": {},
   "outputs": [],
   "source": [
    "output = invoke_chain(chain_with_message_history, \"Nick Park\", session_id = session_id)"
   ]
  },
  {
   "cell_type": "code",
   "execution_count": null,
   "metadata": {},
   "outputs": [
    {
     "data": {
      "text/plain": [
       "'Thank you, Nick Park.\\n\\nNext, may I have your phone number to reach out to you with more details about our debt consolidation program?'"
      ]
     },
     "execution_count": 20,
     "metadata": {},
     "output_type": "execute_result"
    }
   ],
   "source": [
    "output.content"
   ]
  },
  {
   "cell_type": "code",
   "execution_count": null,
   "metadata": {},
   "outputs": [
    {
     "data": {
      "text/plain": [
       "{'name': None,\n",
       " 'cache': None,\n",
       " 'verbose': False,\n",
       " 'callbacks': None,\n",
       " 'tags': None,\n",
       " 'metadata': None,\n",
       " 'custom_get_token_ids': None,\n",
       " 'callback_manager': None,\n",
       " 'client': <openai.resources.chat.completions.Completions at 0x1545b4c1400>,\n",
       " 'async_client': <openai.resources.chat.completions.AsyncCompletions at 0x1545b4c2ea0>,\n",
       " 'model_name': 'gpt-3.5-turbo-0125',\n",
       " 'temperature': 0.7,\n",
       " 'model_kwargs': {},\n",
       " 'openai_api_key': SecretStr('**********'),\n",
       " 'openai_api_base': None,\n",
       " 'openai_organization': None,\n",
       " 'openai_proxy': '',\n",
       " 'request_timeout': None,\n",
       " 'max_retries': 2,\n",
       " 'streaming': False,\n",
       " 'n': 1,\n",
       " 'max_tokens': None,\n",
       " 'tiktoken_model_name': None,\n",
       " 'default_headers': None,\n",
       " 'default_query': None,\n",
       " 'http_client': None,\n",
       " 'http_async_client': None}"
      ]
     },
     "execution_count": 21,
     "metadata": {},
     "output_type": "execute_result"
    }
   ],
   "source": [
    "llm.__dict__"
   ]
  },
  {
   "cell_type": "code",
   "execution_count": null,
   "metadata": {},
   "outputs": [
    {
     "data": {
      "text/plain": [
       "Customer(debt='7200', zip_code='07928', email='nick@nick.com', first_name='Nick', last_name='Park', phone_number=None, street_address=None, birth_date=None, credit_pull_consent=None)"
      ]
     },
     "execution_count": 22,
     "metadata": {},
     "output_type": "execute_result"
    }
   ],
   "source": [
    "new_customer.update_customer_from_string_non_empty(extract_customer_info(collect_latest_chat(chain_with_message_history, session_id)))\n",
    "new_customer"
   ]
  },
  {
   "cell_type": "code",
   "execution_count": null,
   "metadata": {},
   "outputs": [
    {
     "data": {
      "text/plain": [
       "AIMessage(content='Thank you for providing your phone number.\\n\\nLastly, may I have your street address and birth date, please?', response_metadata={'token_usage': {'completion_tokens': 22, 'prompt_tokens': 1081, 'total_tokens': 1103}, 'model_name': 'gpt-3.5-turbo-0125', 'system_fingerprint': None, 'finish_reason': 'stop', 'logprobs': None}, id='run-d19b553a-28c5-4193-9e1f-e2cf1f403b82-0')"
      ]
     },
     "execution_count": 23,
     "metadata": {},
     "output_type": "execute_result"
    }
   ],
   "source": [
    "invoke_chain(chain_with_message_history, \"2017484848\", session_id = session_id)"
   ]
  },
  {
   "cell_type": "code",
   "execution_count": null,
   "metadata": {},
   "outputs": [
    {
     "data": {
      "text/plain": [
       "Customer(debt='7200', zip_code='07928', email='nick@nick.com', first_name='Nick', last_name='Park', phone_number='2017484848', street_address=None, birth_date=None, credit_pull_consent=None)"
      ]
     },
     "execution_count": 24,
     "metadata": {},
     "output_type": "execute_result"
    }
   ],
   "source": [
    "new_customer.update_customer_from_string_non_empty(extract_customer_info(collect_latest_chat(chain_with_message_history, session_id)))\n",
    "new_customer"
   ]
  },
  {
   "cell_type": "code",
   "execution_count": null,
   "metadata": {},
   "outputs": [
    {
     "data": {
      "text/plain": [
       "AIMessage(content=\"Thank you for providing that information.\\n\\nI will now review the details you've shared with me to estimate your potential savings through our debt consolidation program. \\n\\nTo discuss this further and tailor a plan to suit your needs, would you like to schedule a call with one of our debt counselors? \\n\\nYou can click on the following link to book a call: [Schedule a Call](tel:18001234567)\\n\\nFeel free to reach out if you have any more questions.\", response_metadata={'token_usage': {'completion_tokens': 94, 'prompt_tokens': 1265, 'total_tokens': 1359}, 'model_name': 'gpt-3.5-turbo-0125', 'system_fingerprint': None, 'finish_reason': 'stop', 'logprobs': None}, id='run-46645bc9-8c39-4e5a-a2e3-008cf0cab6b4-0')"
      ]
     },
     "execution_count": 25,
     "metadata": {},
     "output_type": "execute_result"
    }
   ],
   "source": [
    "invoke_chain(chain_with_message_history, \"72 bell ave, 12/12/1990\", session_id = session_id)"
   ]
  },
  {
   "cell_type": "code",
   "execution_count": null,
   "metadata": {},
   "outputs": [
    {
     "data": {
      "text/plain": [
       "Customer(debt='7200', zip_code='07928', email='nick@nick.com', first_name='Nick', last_name='Park', phone_number='2017484848', street_address='72', birth_date='12/12/1990', credit_pull_consent=None)"
      ]
     },
     "execution_count": 26,
     "metadata": {},
     "output_type": "execute_result"
    }
   ],
   "source": [
    "new_customer.update_customer_from_string_non_empty(extract_customer_info(collect_latest_chat(chain_with_message_history, session_id)))\n",
    "new_customer"
   ]
  },
  {
   "cell_type": "code",
   "execution_count": null,
   "metadata": {},
   "outputs": [
    {
     "name": "stdout",
     "output_type": "stream",
     "text": [
      "\u001b[1;31mSignature:\u001b[0m \u001b[0mchain_with_message_history\u001b[0m\u001b[1;33m.\u001b[0m\u001b[0mget_session_history\u001b[0m\u001b[1;33m(\u001b[0m\u001b[0muser_id\u001b[0m\u001b[1;33m)\u001b[0m\u001b[1;33m\u001b[0m\u001b[1;33m\u001b[0m\u001b[0m\n",
      "\u001b[1;31mDocstring:\u001b[0m <no docstring>\n",
      "\u001b[1;31mFile:\u001b[0m      c:\\users\\npark\\appdata\\local\\temp\\ipykernel_23076\\3112753427.py\n",
      "\u001b[1;31mType:\u001b[0m      function"
     ]
    }
   ],
   "source": [
    "chain_with_message_history.get_session_history?"
   ]
  },
  {
   "cell_type": "code",
   "execution_count": null,
   "metadata": {},
   "outputs": [],
   "source": [
    "total_str = '\\n'.join([x.content for x in chain_with_message_history.get_session_history(\"123\").messages])"
   ]
  },
  {
   "cell_type": "code",
   "execution_count": null,
   "metadata": {},
   "outputs": [
    {
     "data": {
      "text/plain": [
       "\"Hello\\nI'm a debt counselor specializing in debt consolidation at ClearOne Advantage. To better assist you, may I ask for some information to estimate potential savings?\\n\\nCould you please provide me with the total amount of debt you are looking to consolidate?\\nI have 7200 in debt\\nGreat, thank you for sharing that. \\n\\nNext, could you please provide me with your zip code?\\n07928\\nPerfect, thank you for that. \\n\\nNow, may I have your email address to send you some personalized information on our debt consolidation program?\\nnick@nick.com\\nThank you for providing your email. \\n\\nMay I have your first name and last name, please?\\nNick Park\\nThank you, Nick Park.\\n\\nNext, may I have your phone number to reach out to you with more details about our debt consolidation program?\\n2017484848\\nThank you for providing your phone number.\\n\\nLastly, may I have your street address and birth date, please?\\n72 bell ave, 12/12/1990\\nThank you for providing that information.\\n\\nI will now review the details you've shared with me to estimate your potential savings through our debt consolidation program. \\n\\nTo discuss this further and tailor a plan to suit your needs, would you like to schedule a call with one of our debt counselors? \\n\\nYou can click on the following link to book a call: [Schedule a Call](tel:18001234567)\\n\\nFeel free to reach out if you have any more questions.\""
      ]
     },
     "execution_count": 29,
     "metadata": {},
     "output_type": "execute_result"
    }
   ],
   "source": [
    "total_str"
   ]
  },
  {
   "cell_type": "code",
   "execution_count": null,
   "metadata": {},
   "outputs": [
    {
     "data": {
      "text/plain": [
       "\"debt='7200' zip_code='07928' email='nick@nick.com' first_name='Nick' last_name='Park' phone_number='2017484848' street_address='72 bell ave' birth_date='12/12/1990' credit_pull_consent=None\""
      ]
     },
     "execution_count": 30,
     "metadata": {},
     "output_type": "execute_result"
    }
   ],
   "source": [
    "customer_info = extract_customer_info(total_str)\n",
    "customer_info"
   ]
  },
  {
   "cell_type": "code",
   "execution_count": null,
   "metadata": {},
   "outputs": [
    {
     "data": {
      "text/plain": [
       "Customer(debt='7200', zip_code='07928', email='nick@nick.com', first_name='Nick', last_name='Park', phone_number='2017484848', street_address='72', birth_date='12/12/1990', credit_pull_consent='None')"
      ]
     },
     "execution_count": 31,
     "metadata": {},
     "output_type": "execute_result"
    }
   ],
   "source": [
    "temp_customer = create_customer_from_string(customer_info)\n",
    "temp_customer"
   ]
  },
  {
   "cell_type": "code",
   "execution_count": null,
   "metadata": {},
   "outputs": [
    {
     "data": {
      "text/plain": [
       "{'debt': '7200',\n",
       " 'zip_code': '07928',\n",
       " 'email': 'nick@nick.com',\n",
       " 'first_name': 'Nick',\n",
       " 'last_name': 'Park',\n",
       " 'phone_number': '2017484848',\n",
       " 'street_address': '72',\n",
       " 'birth_date': '12/12/1990',\n",
       " 'credit_pull_consent': 'None'}"
      ]
     },
     "execution_count": 32,
     "metadata": {},
     "output_type": "execute_result"
    }
   ],
   "source": [
    "temp_customer.__dict__"
   ]
  },
  {
   "cell_type": "code",
   "execution_count": null,
   "metadata": {},
   "outputs": [],
   "source": [
    "new_customer = Customer()"
   ]
  },
  {
   "cell_type": "code",
   "execution_count": null,
   "metadata": {},
   "outputs": [],
   "source": [
    "new_customer.update_customer_from_string(customer_info)"
   ]
  },
  {
   "cell_type": "code",
   "execution_count": null,
   "metadata": {},
   "outputs": [
    {
     "data": {
      "text/plain": [
       "Customer(debt='7200', zip_code='07928', email='nick@nick.com', first_name='Nick', last_name='Park', phone_number='2017484848', street_address='72', birth_date='12/12/1990', credit_pull_consent='None')"
      ]
     },
     "execution_count": 35,
     "metadata": {},
     "output_type": "execute_result"
    }
   ],
   "source": [
    "new_customer"
   ]
  },
  {
   "cell_type": "code",
   "execution_count": null,
   "metadata": {},
   "outputs": [
    {
     "data": {
      "text/plain": [
       "\"I'm a debt counselor specializing in debt consolidation at ClearOne Advantage. To better assist you, may I ask for some information to estimate potential savings?\\n\\nCould you please provide me with the total amount of debt you are looking to consolidate?\""
      ]
     },
     "execution_count": 39,
     "metadata": {},
     "output_type": "execute_result"
    }
   ],
   "source": [
    "chain_with_message_history.get_session_history(\"123\").messages[1].content"
   ]
  },
  {
   "cell_type": "code",
   "execution_count": null,
   "metadata": {},
   "outputs": [],
   "source": []
  }
 ],
 "metadata": {
  "kernelspec": {
   "display_name": "chat",
   "language": "python",
   "name": "python3"
  },
  "language_info": {
   "codemirror_mode": {
    "name": "ipython",
    "version": 3
   },
   "file_extension": ".py",
   "mimetype": "text/x-python",
   "name": "python",
   "nbconvert_exporter": "python",
   "pygments_lexer": "ipython3",
   "version": "3.12.3"
  }
 },
 "nbformat": 4,
 "nbformat_minor": 2
}
